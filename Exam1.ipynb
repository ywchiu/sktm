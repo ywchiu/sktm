{
 "cells": [
  {
   "cell_type": "markdown",
   "metadata": {},
   "source": [
    "### 測驗需求\n",
    "請完成以下文字探勘需求：\n",
    "\n",
    "1. 將新聞 article.txt (https://github.com/ywchiu/sktm/blob/master/data/article.txt) 下載存入到自己電腦\n",
    "2. 請使用 jieba 將演說文切詞\n",
    "3. 統計該演說文最常出現的十大字詞\n",
    "4. 使用文字雲繪製該中文資料\n"
   ]
  },
  {
   "cell_type": "markdown",
   "metadata": {},
   "source": [
    "### 評分標準\n",
    "1. 程式碼能順利運行 (20%)\n",
    "2. 程式碼能順利統計該演說文中最常出現10大字詞 (50%)\n",
    "3. 程式碼能使用wordcloud 套件將演說文繪製成文字雲 (30%)"
   ]
  },
  {
   "cell_type": "code",
   "execution_count": null,
   "metadata": {},
   "outputs": [],
   "source": []
  }
 ],
 "metadata": {
  "kernelspec": {
   "display_name": "Python 3 (ipykernel)",
   "language": "python",
   "name": "python3"
  },
  "language_info": {
   "codemirror_mode": {
    "name": "ipython",
    "version": 3
   },
   "file_extension": ".py",
   "mimetype": "text/x-python",
   "name": "python",
   "nbconvert_exporter": "python",
   "pygments_lexer": "ipython3",
   "version": "3.8.10"
  }
 },
 "nbformat": 4,
 "nbformat_minor": 4
}
