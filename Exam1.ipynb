{
 "cells": [
  {
   "cell_type": "markdown",
   "metadata": {},
   "source": [
    "### 測驗需求\n",
    "請完成以下文字探勘需求：\n",
    "\n",
    "1. 將新聞 article.txt (https://github.com/ywchiu/sktm/blob/master/data/article.txt) 下載存入到自己電腦\n",
    "2. 請使用 jieba 將演說文切詞，將切詞結果放入 words 下\n",
    "3. 請統計每個字詞出現的數量，並將結果放到 word_cnt 下\n",
    "4. 請將word_cnt 根據字詞數量進行排序，將結果放到 swd_word_cnt 下\n",
    "5. 請根據 swd_word_cnt 列出演說文最常出現的十大字詞\n",
    "6. 使用文字雲繪製該中文資料"
   ]
  },
  {
   "cell_type": "markdown",
   "metadata": {},
   "source": [
    "### 評分標準\n",
    "1. 程式碼能順利運行 (20%)\n",
    "2. 產出演說文切詞結果 words (15%)\n",
    "3. 產出字詞數量統計結果 word_cnt (15%)\n",
    "4. 將word_cnt 排序，產出排序結果 swd_word_cnt (15%)\n",
    "5. 程式碼能順利產出演說文中最常出現10大字詞 (15%)\n",
    "6. 程式碼能使用wordcloud 套件將演說文繪製成文字雲 (20%)"
   ]
  },
  {
   "cell_type": "markdown",
   "metadata": {},
   "source": [
    "### 繳交方式\n",
    "- 請在 2022/8/14 12:00 前用EMAIL方式傳送 .ipynb 檔案至 david@largitdata.com 作為評分用\n",
    "- 信上請在標題前標註 \"[SKTM] 第一次作業繳交 - 名字\" e.g.[SKTM] 第一次作業繳交 - 王大明  "
   ]
  },
  {
   "cell_type": "code",
   "execution_count": 1,
   "metadata": {},
   "outputs": [
    {
     "name": "stdout",
     "output_type": "stream",
     "text": [
      "--2022-08-04 17:12:47--  https://github.com/ywchiu/sktm/blob/master/data/article.txt\n",
      "正在查找主機 github.com (github.com)... 20.27.177.113\n",
      "正在連接 github.com (github.com)|20.27.177.113|:443... 連上了。\n",
      "已送出 HTTP 要求，正在等候回應... 302 Found\n",
      "位置: https://github.com/ywchiu/sktm/blob/main/data/article.txt [跟隨至新的 URL]\n",
      "--2022-08-04 17:12:48--  https://github.com/ywchiu/sktm/blob/main/data/article.txt\n",
      "繼續使用和 github.com:443 的連線。\n",
      "已送出 HTTP 要求，正在等候回應... 200 OK\n",
      "長度: 未指定 [text/html]\n",
      "儲存到：「article.txt」\n",
      "\n",
      "article.txt             [  <=>               ] 201.74K   675KB/s  於 0.3s       \n",
      "\n",
      "2022-08-04 17:12:48 (675 KB/s) - 已儲存 「article.txt」 [206582]\n",
      "\n"
     ]
    }
   ],
   "source": [
    "! wget https://github.com/ywchiu/sktm/blob/master/data/article.txt"
   ]
  },
  {
   "cell_type": "code",
   "execution_count": 4,
   "metadata": {},
   "outputs": [],
   "source": [
    "import requests\n",
    "res = requests.get('https://github.com/ywchiu/sktm/raw/main/data/article.txt')\n",
    "articles = res.text"
   ]
  },
  {
   "cell_type": "code",
   "execution_count": 6,
   "metadata": {},
   "outputs": [],
   "source": [
    "#articles"
   ]
  },
  {
   "cell_type": "code",
   "execution_count": null,
   "metadata": {},
   "outputs": [],
   "source": []
  }
 ],
 "metadata": {
  "kernelspec": {
   "display_name": "Python 3 (ipykernel)",
   "language": "python",
   "name": "python3"
  },
  "language_info": {
   "codemirror_mode": {
    "name": "ipython",
    "version": 3
   },
   "file_extension": ".py",
   "mimetype": "text/x-python",
   "name": "python",
   "nbconvert_exporter": "python",
   "pygments_lexer": "ipython3",
   "version": "3.8.10"
  }
 },
 "nbformat": 4,
 "nbformat_minor": 4
}
