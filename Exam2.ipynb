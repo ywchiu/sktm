{
 "cells": [
  {
   "cell_type": "markdown",
   "metadata": {},
   "source": [
    "### 作業需求\n",
    "請使用分類演算法將金融商品討論文章進行分類：\n",
    "\n",
    "1. 先將一金融文章資料集 (https://raw.githubusercontent.com/ywchiu/sktm/master/data/finance_article.xlsx) 下載存入到自己電腦\n",
    "2. 請使用Pandas 將該資料讀入名為 finance 的 DataFrame 中\n",
    "3. 請將資料依據內容 content 切詞以後，將資料轉變成一名為tfidf 的TF-IDF矩陣\n",
    "4. 請將資料切分為訓練(train_x, train_y)與測試資料集(test_x, test_y)，其中訓練資料集占80%, 測試資料集占20%\n",
    "5. 請使用貝式分類法建立名為clf 的分類模型(特徵為詞頻矩陣，目標為 tag)\n",
    "6. 請計算出模型準確度(Accuracy)?\n"
   ]
  },
  {
   "cell_type": "markdown",
   "metadata": {},
   "source": [
    "### 評分標準\n",
    "1. 程式碼能順利運行 (10%)\n",
    "2. 程式碼能順利讀取該檔案，並將資料讀成名為finance 的DataFrame (10%)\n",
    "3. 程式碼能將 content 欄位進行切詞，並將切詞後的資料放入語料庫 corpus 的 list 中 (10%)\n",
    "4. 程式碼能使用 sklearn 將資料轉換成名為 tfidf 的TF-IDF矩陣 (10%)\n",
    "5. 程式碼能夠將資料切分為訓練(train_x, train_y)與測試資料集(test_x, test_y)其中訓練資料集占80%, 測試資料集占20%(10%)\n",
    "6. 程式碼使用貝式分類法建立名為clf的分類模型(25%)\n",
    "7. 程式碼能計算模型準確度(Accuracy) (25%)"
   ]
  },
  {
   "cell_type": "markdown",
   "metadata": {},
   "source": [
    "### 繳交方式\n",
    "- 請在 2022/9/04 12:00 前用EMAIL方式傳送 .ipynb 檔案至 david@largitdata.com 作為評分用\n",
    "- 信上請在標題前標註 \"[SKTM] 第二次作業繳交 - 名字\" e.g.[SKTM] 第二次作業繳交 - 王大明  "
   ]
  },
  {
   "cell_type": "code",
   "execution_count": 1,
   "metadata": {},
   "outputs": [
    {
     "name": "stderr",
     "output_type": "stream",
     "text": [
      "/Users/david/.pyenv/versions/3.8.10/lib/python3.8/site-packages/pandas/compat/__init__.py:124: UserWarning: Could not import the lzma module. Your installed Python is incomplete. Attempting to use lzma compression will result in a RuntimeError.\n",
      "  warnings.warn(msg)\n"
     ]
    },
    {
     "data": {
      "text/html": [
       "<div>\n",
       "<style scoped>\n",
       "    .dataframe tbody tr th:only-of-type {\n",
       "        vertical-align: middle;\n",
       "    }\n",
       "\n",
       "    .dataframe tbody tr th {\n",
       "        vertical-align: top;\n",
       "    }\n",
       "\n",
       "    .dataframe thead th {\n",
       "        text-align: right;\n",
       "    }\n",
       "</style>\n",
       "<table border=\"1\" class=\"dataframe\">\n",
       "  <thead>\n",
       "    <tr style=\"text-align: right;\">\n",
       "      <th></th>\n",
       "      <th>url</th>\n",
       "      <th>title</th>\n",
       "      <th>content</th>\n",
       "      <th>tag</th>\n",
       "    </tr>\n",
       "  </thead>\n",
       "  <tbody>\n",
       "    <tr>\n",
       "      <th>0</th>\n",
       "      <td>https://www.ptt.cc/bbs/Loan/M.1586506724.A.914...</td>\n",
       "      <td>[問題] 新北原屋貸款</td>\n",
       "      <td>[抵押房屋資訊]\\n地點：新北市永和\\n房屋形態：透天五樓\\n房屋種類：自有住宅\\n房屋/土...</td>\n",
       "      <td>Loan</td>\n",
       "    </tr>\n",
       "    <tr>\n",
       "      <th>1</th>\n",
       "      <td>https://www.ptt.cc/bbs/Loan/M.1586449508.A.618...</td>\n",
       "      <td>信貸 (台積電)</td>\n",
       "      <td>1. 信貸金額：80-200萬\\n2. 還款期限：7年\\n3. 貸款用途：投資理財\\n4. ...</td>\n",
       "      <td>Loan</td>\n",
       "    </tr>\n",
       "    <tr>\n",
       "      <th>2</th>\n",
       "      <td>https://www.ptt.cc/bbs/Stock/M.1586573726.A.DB...</td>\n",
       "      <td>[新聞] 瑞幸咖啡遭遇做空 疫情危機下中概股受到的放大鏡式狙擊</td>\n",
       "      <td>1.原文連結：\\n\\n2.原文內容：\\n林祖偉／BBC中文\\n\\n瑞幸咖啡有超過4500間分...</td>\n",
       "      <td>Stock</td>\n",
       "    </tr>\n",
       "    <tr>\n",
       "      <th>3</th>\n",
       "      <td>https://www.ptt.cc/bbs/Stock/M.1586582519.A.AE...</td>\n",
       "      <td>[新聞] 14檔業績四升 法人搶</td>\n",
       "      <td>1.原文連結：\\n\\n2.原文內容：14檔業績四升 法人搶\\n2020-04-11 00:1...</td>\n",
       "      <td>Stock</td>\n",
       "    </tr>\n",
       "    <tr>\n",
       "      <th>4</th>\n",
       "      <td>https://www.ptt.cc/bbs/Stock/M.1586572758.A.8B...</td>\n",
       "      <td>[新聞] 突變酵素 塑膠瓶幾小時內能回收</td>\n",
       "      <td>1.原文連結：\\n\\n2.原文內容：\\n科學家創造出一種突變細菌酵素，能在幾小時分解塑膠瓶進...</td>\n",
       "      <td>Stock</td>\n",
       "    </tr>\n",
       "  </tbody>\n",
       "</table>\n",
       "</div>"
      ],
      "text/plain": [
       "                                                 url  \\\n",
       "0  https://www.ptt.cc/bbs/Loan/M.1586506724.A.914...   \n",
       "1  https://www.ptt.cc/bbs/Loan/M.1586449508.A.618...   \n",
       "2  https://www.ptt.cc/bbs/Stock/M.1586573726.A.DB...   \n",
       "3  https://www.ptt.cc/bbs/Stock/M.1586582519.A.AE...   \n",
       "4  https://www.ptt.cc/bbs/Stock/M.1586572758.A.8B...   \n",
       "\n",
       "                             title  \\\n",
       "0                      [問題] 新北原屋貸款   \n",
       "1                         信貸 (台積電)   \n",
       "2  [新聞] 瑞幸咖啡遭遇做空 疫情危機下中概股受到的放大鏡式狙擊   \n",
       "3                 [新聞] 14檔業績四升 法人搶   \n",
       "4             [新聞] 突變酵素 塑膠瓶幾小時內能回收   \n",
       "\n",
       "                                             content    tag  \n",
       "0  [抵押房屋資訊]\\n地點：新北市永和\\n房屋形態：透天五樓\\n房屋種類：自有住宅\\n房屋/土...   Loan  \n",
       "1  1. 信貸金額：80-200萬\\n2. 還款期限：7年\\n3. 貸款用途：投資理財\\n4. ...   Loan  \n",
       "2  1.原文連結：\\n\\n2.原文內容：\\n林祖偉／BBC中文\\n\\n瑞幸咖啡有超過4500間分...  Stock  \n",
       "3  1.原文連結：\\n\\n2.原文內容：14檔業績四升 法人搶\\n2020-04-11 00:1...  Stock  \n",
       "4  1.原文連結：\\n\\n2.原文內容：\\n科學家創造出一種突變細菌酵素，能在幾小時分解塑膠瓶進...  Stock  "
      ]
     },
     "execution_count": 1,
     "metadata": {},
     "output_type": "execute_result"
    }
   ],
   "source": [
    "import pandas\n",
    "finance = pandas.read_excel('https://github.com/ywchiu/sktm/raw/main/data/finance_article.xlsx')\n",
    "finance.head()"
   ]
  },
  {
   "cell_type": "code",
   "execution_count": null,
   "metadata": {},
   "outputs": [],
   "source": []
  }
 ],
 "metadata": {
  "kernelspec": {
   "display_name": "Python 3 (ipykernel)",
   "language": "python",
   "name": "python3"
  },
  "language_info": {
   "codemirror_mode": {
    "name": "ipython",
    "version": 3
   },
   "file_extension": ".py",
   "mimetype": "text/x-python",
   "name": "python",
   "nbconvert_exporter": "python",
   "pygments_lexer": "ipython3",
   "version": "3.8.10"
  }
 },
 "nbformat": 4,
 "nbformat_minor": 4
}
